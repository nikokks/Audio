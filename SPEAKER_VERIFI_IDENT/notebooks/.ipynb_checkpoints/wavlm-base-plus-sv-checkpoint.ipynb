{
 "cells": [
  {
   "cell_type": "code",
   "execution_count": 20,
   "id": "02063800",
   "metadata": {},
   "outputs": [],
   "source": [
    "from transformers import Wav2Vec2FeatureExtractor, WavLMForXVector\n",
    "import numpy as np\n",
    "import torchaudio\n",
    "import torch"
   ]
  },
  {
   "cell_type": "code",
   "execution_count": 3,
   "id": "7c3e88e9",
   "metadata": {},
   "outputs": [],
   "source": [
    "def cos_sim(a, b):\n",
    "        \"\"\"Takes 2 vectors a, b and returns the cosine similarity \n",
    "        \"\"\"\n",
    "        dot_product = np.dot(a, b) # x.y\n",
    "        norm_a = np.linalg.norm(a) #|x|\n",
    "        norm_b = np.linalg.norm(b) #|y|\n",
    "        return dot_product / (norm_a * norm_b)"
   ]
  },
  {
   "cell_type": "code",
   "execution_count": 4,
   "id": "f3122115",
   "metadata": {},
   "outputs": [],
   "source": [
    "feature_extractor = Wav2Vec2FeatureExtractor.from_pretrained('microsoft/wavlm-base-plus-sv')\n",
    "model = WavLMForXVector.from_pretrained('microsoft/wavlm-base-plus-sv')"
   ]
  },
  {
   "cell_type": "code",
   "execution_count": 24,
   "id": "ca81383a",
   "metadata": {},
   "outputs": [],
   "source": [
    "signal, fs =torchaudio.load('../../MICROPHONE_TEST/test/0.wav')\n",
    "signal2, fs2 =torchaudio.load('../../MICROPHONE_TEST/test/2.wav')"
   ]
  },
  {
   "cell_type": "code",
   "execution_count": 25,
   "id": "266122c8",
   "metadata": {
    "scrolled": true
   },
   "outputs": [],
   "source": [
    "inputs = feature_extractor(signal, padding=True, return_tensors=\"pt\", sampling_rate=fs)\n",
    "embeddings = model(inputs['input_values'][0]).embeddings\n",
    "embeddings = torch.nn.functional.normalize(embeddings, dim=-1).cpu()"
   ]
  },
  {
   "cell_type": "code",
   "execution_count": 27,
   "id": "b534f604",
   "metadata": {},
   "outputs": [],
   "source": [
    "inputs2 = feature_extractor(signal2, padding=True, return_tensors=\"pt\", sampling_rate=fs2)\n",
    "embeddings2 = model(inputs2['input_values'][0]).embeddings\n",
    "embeddings2 = torch.nn.functional.normalize(embeddings2, dim=-1).cpu()"
   ]
  },
  {
   "cell_type": "code",
   "execution_count": null,
   "id": "24302bac",
   "metadata": {},
   "outputs": [],
   "source": [
    "similarity = cos_sim(embeddings.detach().numpy()[0], embeddings2.detach().numpy()[0])\n",
    "similarity"
   ]
  }
 ],
 "metadata": {
  "kernelspec": {
   "display_name": "Python 3",
   "language": "python",
   "name": "python3"
  },
  "language_info": {
   "codemirror_mode": {
    "name": "ipython",
    "version": 3
   },
   "file_extension": ".py",
   "mimetype": "text/x-python",
   "name": "python",
   "nbconvert_exporter": "python",
   "pygments_lexer": "ipython3",
   "version": "3.6.5"
  }
 },
 "nbformat": 4,
 "nbformat_minor": 5
}
