{
 "cells": [
  {
   "cell_type": "code",
   "execution_count": 1,
   "id": "02063800",
   "metadata": {},
   "outputs": [],
   "source": [
    "import torchaudio\n",
    "from speechbrain.pretrained import EncoderClassifier\n",
    "import torch\n",
    "import numpy as np"
   ]
  },
  {
   "cell_type": "code",
   "execution_count": 2,
   "id": "7c3e88e9",
   "metadata": {},
   "outputs": [],
   "source": [
    "\n",
    "def cos_sim(a, b):\n",
    "        \"\"\"Takes 2 vectors a, b and returns the cosine similarity \n",
    "        \"\"\"\n",
    "        dot_product = np.dot(a, b) # x.y\n",
    "        norm_a = np.linalg.norm(a) #|x|\n",
    "        norm_b = np.linalg.norm(b) #|y|\n",
    "        return dot_product / (norm_a * norm_b)"
   ]
  },
  {
   "cell_type": "code",
   "execution_count": null,
   "id": "094613a4",
   "metadata": {},
   "outputs": [],
   "source": []
  },
  {
   "cell_type": "code",
   "execution_count": 4,
   "id": "24302bac",
   "metadata": {},
   "outputs": [
    {
     "data": {
      "text/plain": [
       "0.10112106"
      ]
     },
     "execution_count": 4,
     "metadata": {},
     "output_type": "execute_result"
    }
   ],
   "source": [
    "# for speaker identification\n",
    "\n",
    "classifier = EncoderClassifier.from_hparams(source=\"speechbrain/spkrec-ecapa-voxceleb\")\n",
    "signal, fs =torchaudio.load('../../MICROPHONE_TEST/test/0.wav')\n",
    "embeddings = classifier.encode_batch(signal)\n",
    "\n",
    "signal2, fs =torchaudio.load('../../MICROPHONE_TEST/test/2.wav')\n",
    "\n",
    "embeddings2 = classifier.encode_batch(signal2)\n",
    "\n",
    "cos_sim(embeddings2.numpy()[0][0],embeddings.numpy()[0][0])"
   ]
  },
  {
   "cell_type": "code",
   "execution_count": null,
   "id": "bf9581ca",
   "metadata": {},
   "outputs": [],
   "source": []
  },
  {
   "cell_type": "code",
   "execution_count": null,
   "id": "b7aa8f2b",
   "metadata": {},
   "outputs": [],
   "source": [
    "# for speaker verification\n",
    "from speechbrain.pretrained import SpeakerRecognition\n",
    "\n",
    "verification = SpeakerRecognition.from_hparams(source=\"speechbrain/spkrec-ecapa-voxceleb\", savedir=\"pretrained_models/spkrec-ecapa-voxceleb\")\n",
    "score, prediction = verification.verify_files(\"2.wav\", \"0.wav\")"
   ]
  }
 ],
 "metadata": {
  "kernelspec": {
   "display_name": "Python 3",
   "language": "python",
   "name": "python3"
  },
  "language_info": {
   "codemirror_mode": {
    "name": "ipython",
    "version": 3
   },
   "file_extension": ".py",
   "mimetype": "text/x-python",
   "name": "python",
   "nbconvert_exporter": "python",
   "pygments_lexer": "ipython3",
   "version": "3.6.5"
  }
 },
 "nbformat": 4,
 "nbformat_minor": 5
}
