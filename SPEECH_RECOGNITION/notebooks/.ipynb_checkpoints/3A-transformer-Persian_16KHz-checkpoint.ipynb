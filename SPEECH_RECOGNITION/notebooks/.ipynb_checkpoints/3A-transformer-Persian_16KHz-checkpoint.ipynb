{
 "cells": [
  {
   "cell_type": "code",
   "execution_count": null,
   "id": "058cd8dc",
   "metadata": {},
   "outputs": [],
   "source": [
    "#    Test WER on Common Voice persian self-reported  10.360"
   ]
  },
  {
   "cell_type": "code",
   "execution_count": 7,
   "id": "2e508120",
   "metadata": {},
   "outputs": [
    {
     "data": {
      "application/vnd.jupyter.widget-view+json": {
       "model_id": "1b7c31d47ca54900909f1b9ea26ba5c1",
       "version_major": 2,
       "version_minor": 0
      },
      "text/plain": [
       "Downloading:   0%|          | 0.00/260 [00:00<?, ?B/s]"
      ]
     },
     "metadata": {},
     "output_type": "display_data"
    },
    {
     "data": {
      "application/vnd.jupyter.widget-view+json": {
       "model_id": "f46772e59f3248a3ac090bab0f3a8af4",
       "version_major": 2,
       "version_minor": 0
      },
      "text/plain": [
       "Downloading:   0%|          | 0.00/351 [00:00<?, ?B/s]"
      ]
     },
     "metadata": {},
     "output_type": "display_data"
    },
    {
     "data": {
      "application/vnd.jupyter.widget-view+json": {
       "model_id": "3da19ac9125a4e788cc879ce70833223",
       "version_major": 2,
       "version_minor": 0
      },
      "text/plain": [
       "Downloading:   0%|          | 0.00/181 [00:00<?, ?B/s]"
      ]
     },
     "metadata": {},
     "output_type": "display_data"
    },
    {
     "data": {
      "application/vnd.jupyter.widget-view+json": {
       "model_id": "4573f0088bf34bda9e552df9bc3ca5b3",
       "version_major": 2,
       "version_minor": 0
      },
      "text/plain": [
       "Downloading:   0%|          | 0.00/85.0 [00:00<?, ?B/s]"
      ]
     },
     "metadata": {},
     "output_type": "display_data"
    },
    {
     "data": {
      "application/vnd.jupyter.widget-view+json": {
       "model_id": "948968b051a8428e84f06a39ef42f1f0",
       "version_major": 2,
       "version_minor": 0
      },
      "text/plain": [
       "Downloading:   0%|          | 0.00/2.03k [00:00<?, ?B/s]"
      ]
     },
     "metadata": {},
     "output_type": "display_data"
    },
    {
     "data": {
      "application/vnd.jupyter.widget-view+json": {
       "model_id": "5f848d47e00d46c8b265beea53e7b364",
       "version_major": 2,
       "version_minor": 0
      },
      "text/plain": [
       "Downloading:   0%|          | 0.00/1.26G [00:00<?, ?B/s]"
      ]
     },
     "metadata": {},
     "output_type": "display_data"
    }
   ],
   "source": [
    "from transformers import Wav2Vec2ForCTC, Wav2Vec2Processor\n",
    "import soundfile as sf\n",
    "import time\n",
    "import torch\n",
    "import os\n",
    "\n",
    "\n",
    "processor = Wav2Vec2Processor.from_pretrained(\"mpoyraz/wav2vec2-xls-r-300m-cv6-turkish\")\n",
    "\n",
    "model = Wav2Vec2ForCTC.from_pretrained(\"mpoyraz/wav2vec2-xls-r-300m-cv6-turkish\")"
   ]
  },
  {
   "cell_type": "raw",
   "id": "90f10627",
   "metadata": {},
   "source": [
    "# load pretrained model offline\n",
    "processor = Wav2Vec2Processor.from_pretrained(\"MODELS_SAVED/wav2vec2-large-xlsr-persian-v3\")\n",
    "model = Wav2Vec2ForCTC.from_pretrained(\"MODELS_SAVED/wav2vec2-large-xlsr-persian-v3\")#.to('cuda')\n",
    "\n",
    "# load pretrained model online\n",
    "processor = Wav2Vec2Processor.from_pretrained(\"m3hrdadfi/wav2vec2-large-xlsr-persian-v3\")\n",
    "model = Wav2Vec2ForCTC.from_pretrained(\"m3hrdadfi/wav2vec2-large-xlsr-persian-v3\").to('cuda')"
   ]
  },
  {
   "cell_type": "code",
   "execution_count": null,
   "id": "e2f7cae2",
   "metadata": {},
   "outputs": [],
   "source": [
    "path = 'data_1_flac/'\n",
    "\n",
    "liste_dir = os.listdir(path)\n",
    "liste_dir = []"
   ]
  },
  {
   "cell_type": "code",
   "execution_count": null,
   "id": "fb696eb9",
   "metadata": {},
   "outputs": [],
   "source": [
    "processor = Wav2Vec2Processor.from_pretrained(\"m3hrdadfi/wav2vec2-large-xlsr-persian-v3\")\n",
    "model = Wav2Vec2ForCTC.from_pretrained(\"m3hrdadfi/wav2vec2-large-xlsr-persian-v3\").to('cuda')"
   ]
  },
  {
   "cell_type": "code",
   "execution_count": null,
   "id": "fd8ebedb",
   "metadata": {},
   "outputs": [],
   "source": [
    "\n",
    "def new_data(path):\n",
    "    global liste_dir\n",
    "    elements = os.listdir(path) \n",
    "    if len(elements) > len(liste_dir):\n",
    "        liste = list(set(elements)-set(liste_dir))\n",
    "        if liste !=  []:\n",
    "            liste_dir = liste_dir + [liste[0]]\n",
    "            print(liste_dir)\n",
    "            return liste[0]\n",
    "        else:\n",
    "            print(liste)\n",
    "            return None\n",
    "    return None\n",
    "\n",
    "\n",
    "while True:\n",
    "    while True:\n",
    "        time.sleep(2)\n",
    "        nom_morceau = new_data(path)\n",
    "        if nom_morceau != None:\n",
    "            break\n",
    "    print('START')\n",
    "    # load audio\n",
    "    audio_input, sample_rate = sf.read(path+nom_morceau)\n",
    "\n",
    "    # pad input values and return pt tensor\n",
    "    input_values = processor(audio_input, sampling_rate=sample_rate, return_tensors=\"pt\").input_values#.to('cuda')\n",
    "\n",
    "    # INFERENCE\n",
    "\n",
    "    ## retrieve logits & take argmax\n",
    "    logits = model(input_values).logits\n",
    "    predicted_ids = torch.argmax(logits, dim=-1)\n",
    "\n",
    "    ## transcribe\n",
    "    transcription = processor.decode(predicted_ids[0])\n",
    "    with open('data_2_text/'+nom_morceau[:-5]+'.txt','w') as f:\n",
    "        f.write(transcription)\n",
    "\n",
    "    print(transcription)"
   ]
  },
  {
   "cell_type": "code",
   "execution_count": null,
   "id": "83c176da",
   "metadata": {},
   "outputs": [],
   "source": []
  },
  {
   "cell_type": "code",
   "execution_count": null,
   "id": "ecedf1b3",
   "metadata": {},
   "outputs": [],
   "source": []
  }
 ],
 "metadata": {
  "kernelspec": {
   "display_name": "Python 3",
   "language": "python",
   "name": "python3"
  },
  "language_info": {
   "codemirror_mode": {
    "name": "ipython",
    "version": 3
   },
   "file_extension": ".py",
   "mimetype": "text/x-python",
   "name": "python",
   "nbconvert_exporter": "python",
   "pygments_lexer": "ipython3",
   "version": "3.6.5"
  }
 },
 "nbformat": 4,
 "nbformat_minor": 5
}
