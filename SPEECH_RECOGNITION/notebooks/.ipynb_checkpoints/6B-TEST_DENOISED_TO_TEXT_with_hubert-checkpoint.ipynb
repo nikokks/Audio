{
 "cells": [
  {
   "cell_type": "code",
   "execution_count": 1,
   "id": "5366a5b3",
   "metadata": {},
   "outputs": [],
   "source": [
    "from transformers import Wav2Vec2Processor, HubertForCTC\n",
    "from transformers import Wav2Vec2Processor, Wav2Vec2ForCTC\n",
    "import soundfile as sf\n",
    "import torch\n",
    "from time import time\n",
    "from tqdm import tqdm\n",
    "import numpy as np\n",
    "import torch\n",
    "import torch.nn as nn\n",
    "import torch.nn.functional as F\n",
    "import torch.optim as optim"
   ]
  },
  {
   "cell_type": "raw",
   "id": "7177f976",
   "metadata": {},
   "source": [
    "# to load models offline \n",
    "processor = Wav2Vec2Processor.from_pretrained(\"MODELS_SAVED/hubert-large-ls960-ft/\")\n",
    "model = HubertForCTC.from_pretrained(\"MODELS_SAVED/hubert-large-ls960-ft/\")\n",
    "\n",
    "# to load models online \n",
    "processor = Wav2Vec2Processor.from_pretrained(\"facebook/hubert-large-ls960-ft\")\n",
    "model = HubertForCTC.from_pretrained(\"facebook/hubert-large-ls960-ft\")"
   ]
  },
  {
   "cell_type": "code",
   "execution_count": 26,
   "id": "eab0c093",
   "metadata": {},
   "outputs": [],
   "source": [
    "import os\n",
    "files = os.listdir('DTLN_DPTNET_FLAC/')"
   ]
  },
  {
   "cell_type": "code",
   "execution_count": 27,
   "id": "6ea616b7",
   "metadata": {},
   "outputs": [
    {
     "name": "stdout",
     "output_type": "stream",
     "text": [
      "p226_010.flac\n",
      "['PEOPLE LOOK BUT NO ONE EVER FINDS IT']\n",
      "p226_006.flac\n",
      "['WHEN THE SUNLIGHT STRIKES RAINDROPS IN THE AIR THEY ACT AS A PRISOM AND FORM A RAINBOW']\n",
      "p226_007.flac\n",
      "['THE RAINBOW IS A DIVISION OF WHITE LIGHT INTO MANY BEAUTIFUL COLORS']\n",
      "p226_001.flac\n",
      "['NOW PLEASE CALL STELLA']\n",
      "p226_003.flac\n",
      "['THAT BEAG SIX SPOONS AND BREAFAST NOTE AN UNTIL IT ARRIVED FIVE THIX FLOWVERY AT MUCHI LE AND MAYBE A TSNAP BY HER BROTHER FOLLOW HER L']\n",
      "p226_009.flac\n",
      "['THERE IS ACCORDING TO A LEGEND A BOILING POT OF GOLD AT ONE END']\n",
      "p226_004.flac\n",
      "['NO OT WE OUGH TO NEED AN NO A BATTER NET THE HAR ADOL AND OUR BIG TOY FOR OIL IN MY CASE TOM  YOU']\n",
      "p226_005.flac\n",
      "['SHE CAN SCOOP THESE THINGS INTO THREE RED BAGS AND WE WILL GO MEET HER WEDNESDAY AT THE TRAIN STATION']\n",
      "p226_002.flac\n",
      "['ASK HER TO BRING THESE THINGS WITH HER IN THE STORY ORWHAT']\n",
      "p226_008.flac\n",
      "['SE TAKE THE SHAPE OF THE LONG ROUND ARCH WITH ITS PATH HIGH ABOVE I AND ITS TWO ENDS APPARENTLY BEYOND THE HORIZON']\n"
     ]
    }
   ],
   "source": [
    "minimum = 9999999\n",
    "with torch.no_grad():\n",
    "    liste_denoised = []\n",
    "    for file in files:\n",
    "        print(file)\n",
    "        ds = sf.read('DTLN_DPTNET_FLAC/'+file)\n",
    "        input_values = processor(ds[0], return_tensors=\"pt\", padding=\"longest\",num_process=6,sampling_rate=16000).input_values  # Batch size 1\n",
    "        output =  model(input_values)\n",
    "        output = torch.argmax(output.logits, dim=-1)\n",
    "        output = output.detach().to(device='cpu', dtype=torch.long)\n",
    "        transcription = processor.batch_decode(output)\n",
    "        print(transcription)\n",
    "        liste_denoised.append(transcription)"
   ]
  },
  {
   "cell_type": "code",
   "execution_count": 28,
   "id": "5102bf90",
   "metadata": {},
   "outputs": [
    {
     "name": "stdout",
     "output_type": "stream",
     "text": [
      "p226_010.flac\n",
      "['PEOPLE LOOK BUT NO ONE EVER FINDS IT']\n",
      "p226_006.flac\n",
      "['WHEN THE SUNLIGHT STRIKES RAINDROPS IN THE AIR THEY ACT AS A PRISM AND FORM A RAINBOW']\n",
      "p226_007.flac\n",
      "['THE RAINBOW IS A DIVISION OF WHITE LIGHT INTO MANY BEAUTIFUL COLOURS']\n",
      "p226_001.flac\n",
      "['PLEASE CALL STELLA']\n",
      "p226_003.flac\n",
      "['SIX SPOONS OF FRESH SNOW PEASE FIVE THICK SLABS OF BLUE CHEESE AND MAYBE A SNACK FOR HER BROTHER BOB']\n",
      "p226_009.flac\n",
      "['THERE IS ACCORDING TO A LEGEND A BOILING POT OF GOLD AT ONE END']\n",
      "p226_004.flac\n",
      "['WE ALSO NEED A SMALL PLASTIC SNAKE AND A BIG TOY FROG FOR THE KIDS']\n",
      "p226_005.flac\n",
      "['SHE CAN SCOOP THESE THINGS INTO THREE RED BAGS AND WE WILL GO MEET HER WEDNESDAY AT THE TRAIN STATION']\n",
      "p226_002.flac\n",
      "['ASK HER TO BRING THESE THINGS WITH HER FROM THE STORE']\n",
      "p226_008.flac\n",
      "['THESE TAKE THE SHAPE OF A LONG ROUND ARCH WITH ITS PATH HIGH ABOVE AND ITS TWO ENDS APPARENTLY BEYOND THE HORIZON']\n"
     ]
    }
   ],
   "source": [
    "minimum = 9999999\n",
    "with torch.no_grad():\n",
    "    liste_clean = []\n",
    "    for file in files:\n",
    "        print(file)\n",
    "        ds = sf.read('clean_trainset_28spk_wav_FLAC/'+file)\n",
    "        input_values = processor(ds[0], return_tensors=\"pt\", padding=\"longest\",num_process=6,sampling_rate=16000).input_values  # Batch size 1\n",
    "        output =  model(input_values)\n",
    "        output = torch.argmax(output.logits, dim=-1)\n",
    "        output = output.detach().to(device='cpu', dtype=torch.long)\n",
    "        transcription = processor.batch_decode(output)\n",
    "        print(transcription)\n",
    "        liste_clean.append(transcription)"
   ]
  },
  {
   "cell_type": "code",
   "execution_count": 29,
   "id": "fab75ed4",
   "metadata": {},
   "outputs": [],
   "source": [
    "import numpy\n",
    "\n",
    "def get_word_error_rate(r, h):\n",
    "\n",
    "    \"\"\"\n",
    "    Given two list of strings how many word error rate(insert, delete or substitution).\n",
    "    \"\"\"\n",
    "    d = numpy.zeros((len(r) + 1) * (len(h) + 1), dtype=numpy.uint16)\n",
    "    d = d.reshape((len(r) + 1, len(h) + 1))\n",
    "    for i in range(len(r) + 1):\n",
    "        for j in range(len(h) + 1):\n",
    "            if i == 0:\n",
    "                d[0][j] = j\n",
    "            elif j == 0:\n",
    "                d[i][0] = i\n",
    "\n",
    "    for i in range(1, len(r) + 1):\n",
    "        for j in range(1, len(h) + 1):\n",
    "            if r[i - 1] == h[j - 1]:\n",
    "                d[i][j] = d[i - 1][j - 1]\n",
    "            else:\n",
    "                substitution = d[i - 1][j - 1] + 1\n",
    "                insertion = d[i][j - 1] + 1\n",
    "                deletion = d[i - 1][j] + 1\n",
    "                d[i][j] = min(substitution, insertion, deletion)\n",
    "    result = float(d[len(r)][len(h)]) / len(r) * 100\n",
    "\n",
    "    return result\n"
   ]
  },
  {
   "cell_type": "code",
   "execution_count": 30,
   "id": "92c0ac7c",
   "metadata": {},
   "outputs": [],
   "source": [
    "liste_results = []\n",
    "for i in range(len(liste_clean)):\n",
    "    liste_results.append(get_word_error_rate(liste_denoised[i][0].split(),liste_clean[i][0].split()))"
   ]
  },
  {
   "cell_type": "code",
   "execution_count": 31,
   "id": "d7978cca",
   "metadata": {},
   "outputs": [
    {
     "data": {
      "text/plain": [
       "[0.0,\n",
       " 5.88235294117647,\n",
       " 8.333333333333332,\n",
       " 25.0,\n",
       " 70.37037037037037,\n",
       " 0.0,\n",
       " 76.0,\n",
       " 0.0,\n",
       " 25.0,\n",
       " 13.043478260869565]"
      ]
     },
     "execution_count": 31,
     "metadata": {},
     "output_type": "execute_result"
    }
   ],
   "source": [
    "liste_results"
   ]
  },
  {
   "cell_type": "code",
   "execution_count": 32,
   "id": "56c222b0",
   "metadata": {},
   "outputs": [
    {
     "data": {
      "text/plain": [
       "22.362953490574974"
      ]
     },
     "execution_count": 32,
     "metadata": {},
     "output_type": "execute_result"
    }
   ],
   "source": [
    "np.mean(liste_results)"
   ]
  },
  {
   "cell_type": "code",
   "execution_count": null,
   "id": "1df5833d",
   "metadata": {},
   "outputs": [],
   "source": []
  },
  {
   "cell_type": "code",
   "execution_count": null,
   "id": "cb13eaec",
   "metadata": {},
   "outputs": [],
   "source": []
  },
  {
   "cell_type": "code",
   "execution_count": null,
   "id": "a8e7e7dd",
   "metadata": {},
   "outputs": [],
   "source": []
  },
  {
   "cell_type": "code",
   "execution_count": null,
   "id": "eb9574d7",
   "metadata": {},
   "outputs": [],
   "source": []
  },
  {
   "cell_type": "code",
   "execution_count": 22,
   "id": "39bdf0da",
   "metadata": {},
   "outputs": [],
   "source": [
    "#!/usr/bin/env python\n",
    "\n",
    "\n",
    "def wer(r, h):\n",
    "    \"\"\"\n",
    "    Calculation of WER with Levenshtein distance.\n",
    "\n",
    "    Works only for iterables up to 254 elements (uint8).\n",
    "    O(nm) time ans space complexity.\n",
    "\n",
    "    Parameters\n",
    "    ----------\n",
    "    r : list\n",
    "    h : list\n",
    "\n",
    "    Returns\n",
    "    -------\n",
    "    int\n",
    "\n",
    "    Examples\n",
    "    --------\n",
    "    >>> wer(\"who is there\".split(), \"is there\".split())\n",
    "    1\n",
    "    >>> wer(\"who is there\".split(), \"\".split())\n",
    "    3\n",
    "    >>> wer(\"\".split(), \"who is there\".split())\n",
    "    3\n",
    "    \"\"\"\n",
    "    # initialisation\n",
    "    import numpy\n",
    "\n",
    "    d = numpy.zeros((len(r) + 1) * (len(h) + 1), dtype=numpy.uint8)\n",
    "    d = d.reshape((len(r) + 1, len(h) + 1))\n",
    "    for i in range(len(r) + 1):\n",
    "        for j in range(len(h) + 1):\n",
    "            if i == 0:\n",
    "                d[0][j] = j\n",
    "            elif j == 0:\n",
    "                d[i][0] = i\n",
    "\n",
    "    # computation\n",
    "    for i in range(1, len(r) + 1):\n",
    "        for j in range(1, len(h) + 1):\n",
    "            if r[i - 1] == h[j - 1]:\n",
    "                d[i][j] = d[i - 1][j - 1]\n",
    "            else:\n",
    "                substitution = d[i - 1][j - 1] + 1\n",
    "                insertion = d[i][j - 1] + 1\n",
    "                deletion = d[i - 1][j] + 1\n",
    "                d[i][j] = min(substitution, insertion, deletion)\n",
    "\n",
    "    return d[len(r)][len(h)]"
   ]
  },
  {
   "cell_type": "code",
   "execution_count": 23,
   "id": "730f95c9",
   "metadata": {},
   "outputs": [],
   "source": [
    "liste_results = []\n",
    "for i in range(len(liste_clean)):\n",
    "    liste_results.append(wer(liste_denoised[i][0].split(),liste_clean[i][0].split()))"
   ]
  },
  {
   "cell_type": "code",
   "execution_count": 24,
   "id": "e54db02f",
   "metadata": {},
   "outputs": [
    {
     "data": {
      "text/plain": [
       "4.7"
      ]
     },
     "execution_count": 24,
     "metadata": {},
     "output_type": "execute_result"
    }
   ],
   "source": [
    "np.mean(liste_results)\n"
   ]
  },
  {
   "cell_type": "code",
   "execution_count": null,
   "id": "a32570ee",
   "metadata": {},
   "outputs": [],
   "source": []
  },
  {
   "cell_type": "code",
   "execution_count": null,
   "id": "3298cb4e",
   "metadata": {},
   "outputs": [],
   "source": []
  }
 ],
 "metadata": {
  "kernelspec": {
   "display_name": "Python 3",
   "language": "python",
   "name": "python3"
  },
  "language_info": {
   "codemirror_mode": {
    "name": "ipython",
    "version": 3
   },
   "file_extension": ".py",
   "mimetype": "text/x-python",
   "name": "python",
   "nbconvert_exporter": "python",
   "pygments_lexer": "ipython3",
   "version": "3.6.5"
  }
 },
 "nbformat": 4,
 "nbformat_minor": 5
}
