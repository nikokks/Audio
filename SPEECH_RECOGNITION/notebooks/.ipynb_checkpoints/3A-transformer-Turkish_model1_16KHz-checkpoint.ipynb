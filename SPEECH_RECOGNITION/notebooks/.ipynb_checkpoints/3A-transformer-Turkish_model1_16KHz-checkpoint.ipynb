{
 "cells": [
  {
   "cell_type": "code",
   "execution_count": null,
   "id": "7902340c",
   "metadata": {},
   "outputs": [],
   "source": [
    "#    Test WER on Common Voice 6.1  self-reported    8.830\n",
    "#    Test CER on Common Voice 6.1    self-reported    2.370\n",
    "#    Test WER on Robust Speech Event - Dev Data    self-reported    32.810\n",
    "#    Test CER on Robust Speech Event - Dev Data    self-reported    11.220\n",
    "#    Test WER on Robust Speech Event - Test Data    self-reported    34.860"
   ]
  },
  {
   "cell_type": "code",
   "execution_count": 2,
   "id": "2e508120",
   "metadata": {},
   "outputs": [],
   "source": [
    "from transformers import Wav2Vec2ForCTC, Wav2Vec2Processor\n",
    "import soundfile as sf\n",
    "import time\n",
    "import torch\n",
    "import os"
   ]
  },
  {
   "cell_type": "raw",
   "id": "90f10627",
   "metadata": {},
   "source": [
    "# load pretrained model offline\n",
    "processor = Wav2Vec2Processor.from_pretrained(\"MODELS_SAVED/wav2vec2-xls-r-300m-cv6-turkish\")\n",
    "model = Wav2Vec2ForCTC.from_pretrained(\"MODELS_SAVED/wav2vec2-xls-r-300m-cv6-turkish\")#.to('cuda')\n",
    "\n",
    "# load pretrained model online\n",
    "processor = Wav2Vec2Processor.from_pretrained(\"mpoyraz/wav2vec2-xls-r-300m-cv6-turkish\")\n",
    "model = Wav2Vec2ForCTC.from_pretrained(\"mpoyraz/wav2vec2-xls-r-300m-cv6-turkish\").to('cuda')"
   ]
  },
  {
   "cell_type": "code",
   "execution_count": 3,
   "id": "794663cd",
   "metadata": {},
   "outputs": [],
   "source": [
    "processor = Wav2Vec2Processor.from_pretrained(\"mpoyraz/wav2vec2-xls-r-300m-cv6-turkish\")\n",
    "model = Wav2Vec2ForCTC.from_pretrained(\"mpoyraz/wav2vec2-xls-r-300m-cv6-turkish\").to('cuda')"
   ]
  },
  {
   "cell_type": "code",
   "execution_count": 3,
   "id": "e2f7cae2",
   "metadata": {},
   "outputs": [],
   "source": [
    "path = 'tr/clips_flac/'\n",
    "\n",
    "liste_dir = os.listdir(path)\n",
    "liste_dir = []"
   ]
  },
  {
   "cell_type": "code",
   "execution_count": null,
   "id": "fd8ebedb",
   "metadata": {},
   "outputs": [
    {
     "name": "stdout",
     "output_type": "stream",
     "text": [
      "['common_voice_tr_26676942.flac']\n",
      "START\n",
      "özür dilerim\n"
     ]
    }
   ],
   "source": [
    "\n",
    "def new_data(path):\n",
    "    global liste_dir\n",
    "    elements = os.listdir(path) \n",
    "    if len(elements) > len(liste_dir):\n",
    "        liste = list(set(elements)-set(liste_dir))\n",
    "        if liste !=  []:\n",
    "            liste_dir = liste_dir + [liste[0]]\n",
    "            print(liste_dir)\n",
    "            return liste[0]\n",
    "        else:\n",
    "            print(liste)\n",
    "            return None\n",
    "    return None\n",
    "\n",
    "\n",
    "while True:\n",
    "    while True:\n",
    "        time.sleep(2)\n",
    "        nom_morceau = new_data(path)\n",
    "        if nom_morceau != None:\n",
    "            break\n",
    "    if nom_morceau[-4:]!='flac':\n",
    "        continue\n",
    "    print('START')\n",
    "    # load audio\n",
    "    audio_input, sample_rate = sf.read(path+nom_morceau)\n",
    "\n",
    "    # pad input values and return pt tensor\n",
    "    input_values = processor(audio_input, sampling_rate=sample_rate, return_tensors=\"pt\").input_values#.to('cuda')\n",
    "\n",
    "    # INFERENCE\n",
    "\n",
    "    ## retrieve logits & take argmax\n",
    "    logits = model(input_values).logits\n",
    "    predicted_ids = torch.argmax(logits, dim=-1)\n",
    "\n",
    "    ## transcribe\n",
    "    transcription = processor.decode(predicted_ids[0])\n",
    "\n",
    "\n",
    "    print(transcription)"
   ]
  },
  {
   "cell_type": "code",
   "execution_count": 4,
   "id": "eb0e1764",
   "metadata": {},
   "outputs": [],
   "source": [
    "import pandas as pd\n",
    "test = pd.read_csv('tr/test.tsv',sep='\\t')"
   ]
  },
  {
   "cell_type": "code",
   "execution_count": 5,
   "id": "83c176da",
   "metadata": {},
   "outputs": [],
   "source": [
    "liste_dir = test['path'].values[:1000]\n",
    "\n",
    "good_text = test['sentence'].values[:1000]"
   ]
  },
  {
   "cell_type": "code",
   "execution_count": 6,
   "id": "bbd8ac7c",
   "metadata": {},
   "outputs": [],
   "source": [
    "import numpy\n",
    "\n",
    "def get_word_error_rate(r, h):\n",
    "\n",
    "    \"\"\"\n",
    "    Given two list of strings how many word error rate(insert, delete or substitution).\n",
    "    \"\"\"\n",
    "    d = numpy.zeros((len(r) + 1) * (len(h) + 1), dtype=numpy.uint16)\n",
    "    d = d.reshape((len(r) + 1, len(h) + 1))\n",
    "    for i in range(len(r) + 1):\n",
    "        for j in range(len(h) + 1):\n",
    "            if i == 0:\n",
    "                d[0][j] = j\n",
    "            elif j == 0:\n",
    "                d[i][0] = i\n",
    "\n",
    "    for i in range(1, len(r) + 1):\n",
    "        for j in range(1, len(h) + 1):\n",
    "            if r[i - 1] == h[j - 1]:\n",
    "                d[i][j] = d[i - 1][j - 1]\n",
    "            else:\n",
    "                substitution = d[i - 1][j - 1] + 1\n",
    "                insertion = d[i][j - 1] + 1\n",
    "                deletion = d[i - 1][j] + 1\n",
    "                d[i][j] = min(substitution, insertion, deletion)\n",
    "    result = float(d[len(r)][len(h)]) / len(r) * 100\n",
    "\n",
    "    return result\n"
   ]
  },
  {
   "cell_type": "code",
   "execution_count": 1,
   "id": "ecedf1b3",
   "metadata": {},
   "outputs": [
    {
     "name": "stdout",
     "output_type": "stream",
     "text": [
      "START\n"
     ]
    },
    {
     "ename": "NameError",
     "evalue": "name 'liste_dir' is not defined",
     "output_type": "error",
     "traceback": [
      "\u001b[0;31m---------------------------------------------------------------------------\u001b[0m",
      "\u001b[0;31mNameError\u001b[0m                                 Traceback (most recent call last)",
      "\u001b[0;32m<ipython-input-1-d786a24f8799>\u001b[0m in \u001b[0;36m<module>\u001b[0;34m()\u001b[0m\n\u001b[1;32m      2\u001b[0m \u001b[0mpath\u001b[0m \u001b[0;34m=\u001b[0m \u001b[0;34m'tr/clips_flac/'\u001b[0m\u001b[0;34m\u001b[0m\u001b[0m\n\u001b[1;32m      3\u001b[0m \u001b[0mmean\u001b[0m \u001b[0;34m=\u001b[0m \u001b[0;34m[\u001b[0m\u001b[0;34m]\u001b[0m\u001b[0;34m\u001b[0m\u001b[0m\n\u001b[0;32m----> 4\u001b[0;31m \u001b[0;32mfor\u001b[0m \u001b[0mi\u001b[0m \u001b[0;34m,\u001b[0m \u001b[0mnom_morceau\u001b[0m \u001b[0;32min\u001b[0m \u001b[0menumerate\u001b[0m\u001b[0;34m(\u001b[0m\u001b[0mliste_dir\u001b[0m\u001b[0;34m)\u001b[0m\u001b[0;34m:\u001b[0m\u001b[0;34m\u001b[0m\u001b[0m\n\u001b[0m\u001b[1;32m      5\u001b[0m     \u001b[0;31m# load audio\u001b[0m\u001b[0;34m\u001b[0m\u001b[0;34m\u001b[0m\u001b[0m\n\u001b[1;32m      6\u001b[0m     \u001b[0maudio_input\u001b[0m\u001b[0;34m,\u001b[0m \u001b[0msample_rate\u001b[0m \u001b[0;34m=\u001b[0m \u001b[0msf\u001b[0m\u001b[0;34m.\u001b[0m\u001b[0mread\u001b[0m\u001b[0;34m(\u001b[0m\u001b[0mpath\u001b[0m\u001b[0;34m+\u001b[0m\u001b[0mnom_morceau\u001b[0m\u001b[0;34m[\u001b[0m\u001b[0;34m:\u001b[0m\u001b[0;34m-\u001b[0m\u001b[0;36m4\u001b[0m\u001b[0;34m]\u001b[0m\u001b[0;34m+\u001b[0m\u001b[0;34m'.flac'\u001b[0m\u001b[0;34m)\u001b[0m\u001b[0;34m\u001b[0m\u001b[0m\n",
      "\u001b[0;31mNameError\u001b[0m: name 'liste_dir' is not defined"
     ]
    }
   ],
   "source": [
    "print('START')\n",
    "path = 'tr/clips_flac/'\n",
    "mean = []\n",
    "for i , nom_morceau in enumerate(liste_dir):\n",
    "    # load audio\n",
    "    audio_input, sample_rate = sf.read(path+nom_morceau[:-4]+'.flac')\n",
    "\n",
    "    # pad input values and return pt tensor\n",
    "    input_values = processor(audio_input, sampling_rate=sample_rate, return_tensors=\"pt\",padding='True').input_values.to('cuda')\n",
    "\n",
    "    # INFERENCE\n",
    "\n",
    "    ## retrieve logits & take argmax\n",
    "    logits = model(input_values).logits\n",
    "    predicted_ids = torch.argmax(logits, dim=-1)\n",
    "\n",
    "    ## transcribe\n",
    "    transcription = processor.decode(predicted_ids[0])\n",
    "    #print(transcription)\n",
    "    mean.append(get_word_error_rate(good_text[i], transcription))"
   ]
  },
  {
   "cell_type": "code",
   "execution_count": 8,
   "id": "633d92a9",
   "metadata": {},
   "outputs": [
    {
     "data": {
      "text/plain": [
       "12.171388507829615"
      ]
     },
     "execution_count": 8,
     "metadata": {},
     "output_type": "execute_result"
    }
   ],
   "source": [
    "import numpy as np\n",
    "np.mean(mean)"
   ]
  },
  {
   "cell_type": "code",
   "execution_count": null,
   "id": "4a134faa",
   "metadata": {},
   "outputs": [],
   "source": []
  }
 ],
 "metadata": {
  "kernelspec": {
   "display_name": "Python 3",
   "language": "python",
   "name": "python3"
  },
  "language_info": {
   "codemirror_mode": {
    "name": "ipython",
    "version": 3
   },
   "file_extension": ".py",
   "mimetype": "text/x-python",
   "name": "python",
   "nbconvert_exporter": "python",
   "pygments_lexer": "ipython3",
   "version": "3.6.5"
  }
 },
 "nbformat": 4,
 "nbformat_minor": 5
}
