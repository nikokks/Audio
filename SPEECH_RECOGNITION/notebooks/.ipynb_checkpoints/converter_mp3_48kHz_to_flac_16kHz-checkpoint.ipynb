{
 "cells": [
  {
   "cell_type": "code",
   "execution_count": 1,
   "id": "0efa55bc",
   "metadata": {},
   "outputs": [],
   "source": [
    "# importing libraries\n",
    "import soundfile as sf\n",
    "from pydub import AudioSegment\n",
    "from os.path import splitext\n",
    "import numpy as np\n",
    "import pyaudio\n",
    "import wave\n",
    "import warnings\n",
    "from scipy.io import wavfile\n",
    "import scipy.signal as sps\n",
    "import audioop\n",
    "import os\n",
    "from tqdm import tqdm\n",
    "from multiprocessing import Pool\n",
    "warnings.filterwarnings('ignore')\n",
    "import librosa"
   ]
  },
  {
   "cell_type": "code",
   "execution_count": 2,
   "id": "70678a19",
   "metadata": {},
   "outputs": [],
   "source": [
    "#AUDIO INPUT\n",
    "MP3_OUTPUT_FILENAME = \"tr/clips/\"\n",
    "FLAC_OUTPUT_FILENAME = \"tr/clips_flac/\""
   ]
  },
  {
   "cell_type": "code",
   "execution_count": 3,
   "id": "072a57d2",
   "metadata": {},
   "outputs": [],
   "source": [
    "files = os.listdir(MP3_OUTPUT_FILENAME)"
   ]
  },
  {
   "cell_type": "code",
   "execution_count": 5,
   "id": "0f819c6d",
   "metadata": {},
   "outputs": [],
   "source": [
    "# multiprocessing \n",
    "def conversion(file):\n",
    "    MP3_OUTPUT_FILENAME = \"tr/clips/\"\n",
    "    FLAC_OUTPUT_FILENAME = \"tr/clips_flac/\"\n",
    "    file_flac = file[:-4]+'.flac'\n",
    "    song = AudioSegment.from_mp3(MP3_OUTPUT_FILENAME+file)\n",
    "    song.export(FLAC_OUTPUT_FILENAME+file_flac, format = \"flac\")\n",
    "    sounddata, sr = sf.read(FLAC_OUTPUT_FILENAME+file_flac)\n",
    "    y = librosa.resample(sounddata, sr, 16000)\n",
    "    sf.write(FLAC_OUTPUT_FILENAME+file_flac, y, 16000, subtype='PCM_24')\n",
    "\n",
    "pool = Pool(6)\n",
    "results = pool.map(conversion,files)"
   ]
  },
  {
   "cell_type": "code",
   "execution_count": null,
   "id": "ac133191",
   "metadata": {},
   "outputs": [],
   "source": [
    "# linear procesing\n",
    "for file in tqdm(files):\n",
    "    if file[-4:]!='.mp3':\n",
    "        continue\n",
    "    file_flac = file[:-4]+'.flac'\n",
    "    song = AudioSegment.from_mp3(MP3_OUTPUT_FILENAME+file)\n",
    "    song.export(FLAC_OUTPUT_FILENAME+file_flac, format = \"flac\")\n",
    "    \n",
    "    \n",
    "    sounddata, sr = sf.read(FLAC_OUTPUT_FILENAME+file_flac)\n",
    "    \n",
    "    y = librosa.resample(sounddata, sr, 16000)\n",
    "    sf.write(FLAC_OUTPUT_FILENAME+file_flac, y, 16000, subtype='PCM_24')"
   ]
  }
 ],
 "metadata": {
  "kernelspec": {
   "display_name": "Python 3",
   "language": "python",
   "name": "python3"
  },
  "language_info": {
   "codemirror_mode": {
    "name": "ipython",
    "version": 3
   },
   "file_extension": ".py",
   "mimetype": "text/x-python",
   "name": "python",
   "nbconvert_exporter": "python",
   "pygments_lexer": "ipython3",
   "version": "3.6.5"
  }
 },
 "nbformat": 4,
 "nbformat_minor": 5
}
