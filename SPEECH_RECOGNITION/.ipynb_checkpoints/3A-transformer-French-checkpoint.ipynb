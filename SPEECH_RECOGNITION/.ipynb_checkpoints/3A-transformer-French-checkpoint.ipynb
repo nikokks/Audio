{
 "cells": [
  {
   "cell_type": "code",
   "execution_count": 2,
   "id": "2e508120",
   "metadata": {},
   "outputs": [],
   "source": [
    "from transformers import Wav2Vec2ForCTC, Wav2Vec2Processor\n",
    "import soundfile as sf\n",
    "import time\n",
    "import torch\n",
    "import os"
   ]
  },
  {
   "cell_type": "code",
   "execution_count": 3,
   "id": "20db9f0f",
   "metadata": {},
   "outputs": [],
   "source": [
    "# load pretrained model\n",
    "processor = Wav2Vec2Processor.from_pretrained(\"jonatasgrosman/wav2vec2-large-xlsr-53-french\")\n",
    "model = Wav2Vec2ForCTC.from_pretrained(\"jonatasgrosman/wav2vec2-large-xlsr-53-french\")#.to('cuda')"
   ]
  },
  {
   "cell_type": "code",
   "execution_count": 13,
   "id": "e2f7cae2",
   "metadata": {},
   "outputs": [],
   "source": [
    "\n",
    "path = 'data_1_flac/'\n",
    "\n",
    "liste_dir = os.listdir(path)\n",
    "liste_dir = []"
   ]
  },
  {
   "cell_type": "code",
   "execution_count": null,
   "id": "fd8ebedb",
   "metadata": {},
   "outputs": [
    {
     "name": "stdout",
     "output_type": "stream",
     "text": [
      "['output3.flac']\n",
      "START\n",
      "jou ouvre ouvre facebook\n",
      "['output3.flac', 'output0.flac']\n",
      "START\n",
      "mais de la musique\n",
      "['output3.flac', 'output0.flac', 'output4.flac']\n",
      "START\n",
      "réveille-moi à neuf heures\n",
      "['output3.flac', 'output0.flac', 'output4.flac', 'output2.flac']\n",
      "START\n",
      "ouvre une page\n",
      "['output3.flac', 'output0.flac', 'output4.flac', 'output2.flac', 'output5.flac']\n",
      "START\n",
      "réveille-moi à neuf heures du matin\n",
      "['output3.flac', 'output0.flac', 'output4.flac', 'output2.flac', 'output5.flac', 'output1.flac']\n",
      "START\n",
      "eteint lordinateur\n"
     ]
    }
   ],
   "source": [
    "\n",
    "def new_data(path):\n",
    "    global liste_dir\n",
    "    elements = os.listdir(path) \n",
    "    if len(elements) > len(liste_dir):\n",
    "        liste = list(set(elements)-set(liste_dir))\n",
    "        if liste !=  []:\n",
    "            liste_dir = liste_dir + [liste[0]]\n",
    "            print(liste_dir)\n",
    "            return liste[0]\n",
    "        else:\n",
    "            print(liste)\n",
    "            return None\n",
    "    return None\n",
    "\n",
    "\n",
    "while True:\n",
    "    while True:\n",
    "        time.sleep(2)\n",
    "        nom_morceau = new_data(path)\n",
    "        if nom_morceau != None:\n",
    "            break\n",
    "    print('START')\n",
    "    # load audio\n",
    "    audio_input, sample_rate = sf.read(path+nom_morceau)\n",
    "\n",
    "    # pad input values and return pt tensor\n",
    "    input_values = processor(audio_input, sampling_rate=sample_rate, return_tensors=\"pt\").input_values#.to('cuda')\n",
    "\n",
    "    # INFERENCE\n",
    "\n",
    "    ## retrieve logits & take argmax\n",
    "    logits = model(input_values).logits\n",
    "    predicted_ids = torch.argmax(logits, dim=-1)\n",
    "\n",
    "    ## transcribe\n",
    "    transcription = processor.decode(predicted_ids[0])\n",
    "    with open('data_2_text/'+nom_morceau[:-5]+'.txt','w') as f:\n",
    "        f.write(transcription)\n",
    "\n",
    "    print(transcription)"
   ]
  },
  {
   "cell_type": "code",
   "execution_count": null,
   "id": "83c176da",
   "metadata": {},
   "outputs": [],
   "source": []
  },
  {
   "cell_type": "code",
   "execution_count": null,
   "id": "ecedf1b3",
   "metadata": {},
   "outputs": [],
   "source": []
  }
 ],
 "metadata": {
  "kernelspec": {
   "display_name": "Python 3",
   "language": "python",
   "name": "python3"
  },
  "language_info": {
   "codemirror_mode": {
    "name": "ipython",
    "version": 3
   },
   "file_extension": ".py",
   "mimetype": "text/x-python",
   "name": "python",
   "nbconvert_exporter": "python",
   "pygments_lexer": "ipython3",
   "version": "3.6.5"
  }
 },
 "nbformat": 4,
 "nbformat_minor": 5
}
