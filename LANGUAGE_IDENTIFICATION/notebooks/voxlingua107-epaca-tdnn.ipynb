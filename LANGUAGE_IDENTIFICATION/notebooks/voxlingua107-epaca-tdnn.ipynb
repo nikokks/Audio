{
 "cells": [
  {
   "cell_type": "code",
   "execution_count": 14,
   "id": "77b06f77",
   "metadata": {},
   "outputs": [
    {
     "data": {
      "text/plain": [
       "(tensor([[0.3543, 0.4252, 0.3982, 0.4630, 0.4036, 0.4100, 0.3915, 0.4386, 0.4093,\n",
       "          0.3871, 0.4171, 0.5094, 0.4370, 0.4327, 0.3526, 0.4395, 0.4393, 0.4261,\n",
       "          0.4406, 0.4211, 0.4038, 0.3865, 0.3967, 0.4079, 0.4243, 0.4232, 0.3734,\n",
       "          0.4071, 0.9321, 0.4448, 0.3646, 0.3613, 0.3396, 0.4194, 0.3047, 0.4185,\n",
       "          0.4461, 0.4601, 0.4222, 0.4186, 0.3813, 0.3997, 0.4033, 0.4192, 0.4527,\n",
       "          0.4247, 0.3962, 0.4256, 0.4081, 0.3958, 0.3813, 0.3872, 0.4305, 0.4468,\n",
       "          0.4673, 0.3973, 0.4344, 0.3689, 0.4725, 0.3762, 0.4177, 0.3838, 0.4267,\n",
       "          0.3825, 0.4254, 0.4241, 0.4091, 0.3765, 0.4234, 0.4265, 0.4448, 0.5983,\n",
       "          0.3860, 0.4332, 0.4035, 0.4375, 0.4425, 0.4183, 0.3466, 0.4070, 0.3935,\n",
       "          0.3857, 0.4293, 0.4411, 0.3924, 0.4090, 0.4328, 0.4169, 0.3922, 0.4332,\n",
       "          0.4192, 0.4035, 0.3859, 0.4091, 0.3857, 0.3734, 0.4078, 0.4364, 0.4250,\n",
       "          0.4190, 0.3615, 0.4204, 0.3687, 0.3386, 0.3827, 0.4073, 0.3747]]),\n",
       " tensor([0.9321]),\n",
       " tensor([28]),\n",
       " ['fr'])"
      ]
     },
     "execution_count": 14,
     "metadata": {},
     "output_type": "execute_result"
    }
   ],
   "source": [
    "from speechbrain.pretrained import EncoderClassifier\n",
    "model = EncoderClassifier.from_hparams(\n",
    "  \"TalTechNLP/voxlingua107-epaca-tdnn\"\n",
    ")\n",
    "model.classify_file(\"./../MICROPHONE_TEST/test/0.wav\")"
   ]
  },
  {
   "cell_type": "code",
   "execution_count": null,
   "id": "0359a2f7",
   "metadata": {},
   "outputs": [],
   "source": []
  }
 ],
 "metadata": {
  "kernelspec": {
   "display_name": "Python 3",
   "language": "python",
   "name": "python3"
  },
  "language_info": {
   "codemirror_mode": {
    "name": "ipython",
    "version": 3
   },
   "file_extension": ".py",
   "mimetype": "text/x-python",
   "name": "python",
   "nbconvert_exporter": "python",
   "pygments_lexer": "ipython3",
   "version": "3.6.5"
  }
 },
 "nbformat": 4,
 "nbformat_minor": 5
}
