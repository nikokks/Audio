{
 "cells": [
  {
   "cell_type": "code",
   "execution_count": 28,
   "id": "779bb678",
   "metadata": {},
   "outputs": [],
   "source": [
    "from speechbrain.pretrained import EncoderClassifier\n"
   ]
  },
  {
   "cell_type": "code",
   "execution_count": 29,
   "id": "dc258cac",
   "metadata": {},
   "outputs": [],
   "source": [
    "# load pretrained model offline\n",
    "model = EncoderClassifier.from_hparams(\n",
    "  \"speechbrain/lang-id-voxlingua107-ecapa\"\n",
    ")\n",
    "\n",
    "# load pretrained model online\n",
    "model = EncoderClassifier.from_hparams(\n",
    "  \"speechbrain/lang-id-voxlingua107-ecapa\")"
   ]
  },
  {
   "cell_type": "code",
   "execution_count": null,
   "id": "236e2422",
   "metadata": {},
   "outputs": [],
   "source": []
  },
  {
   "cell_type": "code",
   "execution_count": null,
   "id": "85c6f64f",
   "metadata": {},
   "outputs": [],
   "source": [
    "model.classify_file(\"../../MICROPHONE_TEST/test/0.wav\")"
   ]
  },
  {
   "cell_type": "code",
   "execution_count": null,
   "id": "83bf701e",
   "metadata": {},
   "outputs": [],
   "source": []
  }
 ],
 "metadata": {
  "kernelspec": {
   "display_name": "Python 3",
   "language": "python",
   "name": "python3"
  },
  "language_info": {
   "codemirror_mode": {
    "name": "ipython",
    "version": 3
   },
   "file_extension": ".py",
   "mimetype": "text/x-python",
   "name": "python",
   "nbconvert_exporter": "python",
   "pygments_lexer": "ipython3",
   "version": "3.6.5"
  }
 },
 "nbformat": 4,
 "nbformat_minor": 5
}
