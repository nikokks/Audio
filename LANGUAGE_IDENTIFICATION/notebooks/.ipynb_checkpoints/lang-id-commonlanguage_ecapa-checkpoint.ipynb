{
 "cells": [
  {
   "cell_type": "code",
   "execution_count": 2,
   "id": "ed01769d",
   "metadata": {},
   "outputs": [
    {
     "data": {
      "text/plain": [
       "(tensor([[ 0.0503,  0.0757,  0.0458, -0.2068,  0.0019,  0.3106,  0.0445,  0.0252,\n",
       "           0.0343, -0.1475, -0.0250,  0.0265,  0.1634, -0.2525,  0.1230, -0.1874,\n",
       "          -0.0732,  0.2465,  0.2049,  0.2026,  0.1213,  0.1043,  0.0257, -0.0916,\n",
       "           0.1788,  0.0162,  0.0270,  0.0913, -0.1196,  0.2025,  0.0861, -0.0158,\n",
       "           0.0164,  0.0405,  0.1172,  0.0622, -0.1005, -0.0555,  0.1391, -0.0323,\n",
       "           0.1560,  0.2031, -0.0193,  0.0802,  0.0304]]),\n",
       " tensor([0.3106]),\n",
       " tensor([5]),\n",
       " ['Hakha_Chin'])"
      ]
     },
     "execution_count": 2,
     "metadata": {},
     "output_type": "execute_result"
    }
   ],
   "source": [
    "from speechbrain.pretrained import EncoderClassifier\n",
    "model = EncoderClassifier.from_hparams(\n",
    "  \"speechbrain/lang-id-commonlanguage_ecapa\"\n",
    ")\n",
    "model.classify_file(\"../../MICROPHONE_TEST/test/0.wav\")"
   ]
  },
  {
   "cell_type": "code",
   "execution_count": null,
   "id": "56d392eb",
   "metadata": {},
   "outputs": [],
   "source": []
  }
 ],
 "metadata": {
  "kernelspec": {
   "display_name": "Python 3",
   "language": "python",
   "name": "python3"
  },
  "language_info": {
   "codemirror_mode": {
    "name": "ipython",
    "version": 3
   },
   "file_extension": ".py",
   "mimetype": "text/x-python",
   "name": "python",
   "nbconvert_exporter": "python",
   "pygments_lexer": "ipython3",
   "version": "3.6.5"
  }
 },
 "nbformat": 4,
 "nbformat_minor": 5
}
