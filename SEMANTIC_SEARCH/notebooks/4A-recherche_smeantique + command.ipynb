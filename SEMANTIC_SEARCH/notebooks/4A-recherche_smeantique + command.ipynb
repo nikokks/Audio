{
 "cells": [
  {
   "cell_type": "code",
   "execution_count": 1,
   "id": "ada4b36b",
   "metadata": {},
   "outputs": [],
   "source": [
    "from sentence_transformers import SentenceTransformer\n",
    "import torch.nn as nn\n",
    "import numpy as np\n",
    "model = SentenceTransformer(\"Sahajtomar/french_semantic\")"
   ]
  },
  {
   "cell_type": "code",
   "execution_count": 23,
   "id": "74ae2572",
   "metadata": {},
   "outputs": [
    {
     "name": "stdout",
     "output_type": "stream",
     "text": [
      "réveille-moi à neuf heures\n",
      "réveille-moi à neuf heures du matin\n"
     ]
    }
   ],
   "source": [
    "import os\n",
    "elements = sorted(os.listdir('data_2_text/'))\n",
    "for element in elements[-2:\n",
    "                       ]:\n",
    "    with open('data_2_text/'+element,'r') as f:\n",
    "        text = f.read()\n",
    "        print(text)\n",
    "        \n",
    "sentences = ['allume la télé ! ', 'prends soin de toi', \"je t'aime\",\"reveille moi a telle heure\",\"je m'appelle nicolas\"]"
   ]
  },
  {
   "cell_type": "code",
   "execution_count": 24,
   "id": "478223d1",
   "metadata": {},
   "outputs": [],
   "source": [
    "embeddings1 = model.encode([text], convert_to_tensor=True)\n",
    "embeddings2 = model.encode(sentences, convert_to_tensor=True)\n",
    "cos = nn.CosineSimilarity(dim=1, eps=1e-6)\n",
    "output = cos(embeddings2, embeddings1)\n"
   ]
  },
  {
   "cell_type": "code",
   "execution_count": 25,
   "id": "37dbc2c6",
   "metadata": {},
   "outputs": [
    {
     "name": "stdout",
     "output_type": "stream",
     "text": [
      "réveille-moi à neuf heures du matin\n"
     ]
    }
   ],
   "source": [
    "if np.argmax(output.cpu()) == 3:\n",
    "    print(text)"
   ]
  },
  {
   "cell_type": "code",
   "execution_count": null,
   "id": "13e8ccbf",
   "metadata": {},
   "outputs": [],
   "source": []
  }
 ],
 "metadata": {
  "kernelspec": {
   "display_name": "Python 3",
   "language": "python",
   "name": "python3"
  },
  "language_info": {
   "codemirror_mode": {
    "name": "ipython",
    "version": 3
   },
   "file_extension": ".py",
   "mimetype": "text/x-python",
   "name": "python",
   "nbconvert_exporter": "python",
   "pygments_lexer": "ipython3",
   "version": "3.6.5"
  }
 },
 "nbformat": 4,
 "nbformat_minor": 5
}
