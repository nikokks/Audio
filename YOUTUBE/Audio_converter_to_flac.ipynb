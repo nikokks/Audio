{
 "cells": [
  {
   "cell_type": "code",
   "execution_count": 2,
   "id": "4850c0ea",
   "metadata": {},
   "outputs": [],
   "source": [
    "import os\n",
    "import soundfile as sf"
   ]
  },
  {
   "cell_type": "code",
   "execution_count": null,
   "id": "018f4144",
   "metadata": {},
   "outputs": [],
   "source": []
  },
  {
   "cell_type": "code",
   "execution_count": 3,
   "id": "4a697661",
   "metadata": {},
   "outputs": [],
   "source": [
    "input_file=\"Obama en pleurs lors de sa conférence de presse sur les armes à feu [dIEMX1GJMe8].webm\"\n",
    "output_file = 'test.flac'\n",
    "# convert to flac with frequency 16000\n",
    "os.system('yes Y |ffmpeg -i \"{}\" -f flac {}'.format(input_file,output_file))\n",
    "data, samplerate = sf.read(output_file)\n",
    "sf.write(\"Test4.flac\",data , 16000, subtype='PCM_16')\n"
   ]
  },
  {
   "cell_type": "code",
   "execution_count": 18,
   "id": "4f0b1cfe",
   "metadata": {},
   "outputs": [
    {
     "data": {
      "text/plain": [
       "0"
      ]
     },
     "execution_count": 18,
     "metadata": {},
     "output_type": "execute_result"
    }
   ],
   "source": [
    "# truncate audio between 5 and 15 seconds\n",
    "os.system(' yes Y |ffmpeg -i {} -ss 5 -to 15 -c copy final.flac '.format(output_file))"
   ]
  },
  {
   "cell_type": "code",
   "execution_count": null,
   "id": "24637952",
   "metadata": {},
   "outputs": [],
   "source": []
  }
 ],
 "metadata": {
  "kernelspec": {
   "display_name": "Python 3",
   "language": "python",
   "name": "python3"
  },
  "language_info": {
   "codemirror_mode": {
    "name": "ipython",
    "version": 3
   },
   "file_extension": ".py",
   "mimetype": "text/x-python",
   "name": "python",
   "nbconvert_exporter": "python",
   "pygments_lexer": "ipython3",
   "version": "3.6.5"
  }
 },
 "nbformat": 4,
 "nbformat_minor": 5
}
