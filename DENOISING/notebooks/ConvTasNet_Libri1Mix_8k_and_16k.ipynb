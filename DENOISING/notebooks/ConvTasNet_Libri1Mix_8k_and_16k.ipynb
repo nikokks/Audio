{
 "cells": [
  {
   "cell_type": "code",
   "execution_count": 1,
   "id": "52430c9e",
   "metadata": {},
   "outputs": [],
   "source": [
    "from asteroid.models import BaseModel\n",
    "import torch\n",
    "import torchaudio\n",
    "\n",
    "INPUT_FILE = 'data_pipeline/16000/noisy_input.wav'\n",
    "OUTPUT_FILE = 'data_pipeline/16000_1/ConvTasNet1.wav'"
   ]
  },
  {
   "cell_type": "raw",
   "id": "8f1140f7",
   "metadata": {},
   "source": [
    "# execute this command to load pickle model saved in repository\n",
    "\n",
    "\n",
    "# For 16000 sample rate\n",
    "import pickle\n",
    "with open('MODELS_SAVED/ConvTasNet_Libri1Mix_enhsingle_16k.pkl','rb') as f:\n",
    "    model = pickle.load(f)\n",
    "    \n",
    "# For 8000 sample rate\n",
    "import pickle\n",
    "with open('MODELS_SAVED/ConvTasNet_Libri1Mix_enhsingle_8k.pkl','rb') as f:\n",
    "    model = pickle.load(f)\n",
    "    \n",
    "# If internet \n",
    "model = BaseModel.from_pretrained(\"JorisCos/ConvTasNet_Libri1Mix_enhsingle_16k\")\n",
    "model = BaseModel.from_pretrained(\"mpariente/ConvTasNet_Libri1Mix_enhsingle_8k\")"
   ]
  },
  {
   "cell_type": "code",
   "execution_count": 3,
   "id": "a6284d16",
   "metadata": {},
   "outputs": [],
   "source": [
    "import pickle\n",
    "with open('MODELS_SAVED/ConvTasNet_Libri1Mix_enhsingle_16k.pkl','rb') as f:\n",
    "    model = pickle.load(f)"
   ]
  },
  {
   "cell_type": "code",
   "execution_count": 10,
   "id": "fe8cfc2d",
   "metadata": {},
   "outputs": [],
   "source": [
    "data  = torchaudio.load(INPUT_FILE)[0]"
   ]
  },
  {
   "cell_type": "code",
   "execution_count": null,
   "id": "98e69067",
   "metadata": {},
   "outputs": [],
   "source": [
    "result = model(data[0])"
   ]
  },
  {
   "cell_type": "code",
   "execution_count": 5,
   "id": "784815b6",
   "metadata": {},
   "outputs": [],
   "source": [
    "torchaudio.save(OUTPUT_FILE, result.reshape(1,-1).cpu(), int(16000))"
   ]
  }
 ],
 "metadata": {
  "kernelspec": {
   "display_name": "Python 3",
   "language": "python",
   "name": "python3"
  },
  "language_info": {
   "codemirror_mode": {
    "name": "ipython",
    "version": 3
   },
   "file_extension": ".py",
   "mimetype": "text/x-python",
   "name": "python",
   "nbconvert_exporter": "python",
   "pygments_lexer": "ipython3",
   "version": "3.6.5"
  }
 },
 "nbformat": 4,
 "nbformat_minor": 5
}
