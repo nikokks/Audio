{
 "cells": [
  {
   "cell_type": "code",
   "execution_count": 1,
   "id": "52430c9e",
   "metadata": {},
   "outputs": [],
   "source": [
    "from asteroid.models import BaseModel\n",
    "import torch\n",
    "import torchaudio\n",
    "import os\n",
    "\n",
    "INPUT_PATH_FILES = 'data_pipeline/16000_1/DTLN_norm_40h/'\n",
    "OUTPUT_FILE ='data_pipeline/16000_1/DPTNET_DTLN_norm_40/'\n",
    "FILES = os.listdir(INPUT_PATH_FILES)"
   ]
  },
  {
   "cell_type": "raw",
   "id": "e5aad8f5",
   "metadata": {},
   "source": [
    "# execute this command to load pickle model saved in repository\n",
    "\n",
    "# For 16000 sample rate\n",
    "import pickle\n",
    "with open('MODELS_SAVED/DPTNet_Libri1Mix_enhsingle_16k.pkl','rb') as f:\n",
    "    model = pickle.load(f)\n",
    "    \n",
    "# If internet \n",
    "model = BaseModel.from_pretrained(\"JorisCos/DPTNet_Libri1Mix_enhsingle_16k\")"
   ]
  },
  {
   "cell_type": "code",
   "execution_count": 5,
   "id": "52a771c0",
   "metadata": {},
   "outputs": [],
   "source": [
    "# For 16000 sample rate\n",
    "import pickle\n",
    "with open('MODELS_SAVED/DPTNet_Libri1Mix_enhsingle_16k.pkl','wb') as f:\n",
    "    model = pickle.dump(model,f)"
   ]
  },
  {
   "cell_type": "code",
   "execution_count": 9,
   "id": "98e69067",
   "metadata": {},
   "outputs": [],
   "source": [
    "for INPUT_FILE in FILES:\n",
    "    data  = torchaudio.load(INPUT_PATH_FILES+INPUT_FILE)[0]\n",
    "    result = model(data[0])\n",
    "    torchaudio.save(OUTPUT_FILE+INPUT_FILE, result.cpu(), 16000)"
   ]
  }
 ],
 "metadata": {
  "kernelspec": {
   "display_name": "Python 3",
   "language": "python",
   "name": "python3"
  },
  "language_info": {
   "codemirror_mode": {
    "name": "ipython",
    "version": 3
   },
   "file_extension": ".py",
   "mimetype": "text/x-python",
   "name": "python",
   "nbconvert_exporter": "python",
   "pygments_lexer": "ipython3",
   "version": "3.6.5"
  }
 },
 "nbformat": 4,
 "nbformat_minor": 5
}
