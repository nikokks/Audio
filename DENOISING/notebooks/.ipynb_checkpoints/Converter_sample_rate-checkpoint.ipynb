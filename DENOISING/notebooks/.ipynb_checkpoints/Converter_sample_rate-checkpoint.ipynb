{
 "cells": [
  {
   "cell_type": "code",
   "execution_count": 14,
   "id": "c398d7f0",
   "metadata": {},
   "outputs": [],
   "source": [
    "from scipy.io import wavfile\n",
    "import scipy.signal as sps\n",
    "import audioop\n",
    "import wave\n",
    "import os\n",
    "\n",
    "INPUT_PATH_FILES = 'data_pipeline/8000/'  \n",
    "OUTPUT_PATH_FILES = 'data_pipeline/16000/'"
   ]
  },
  {
   "cell_type": "code",
   "execution_count": null,
   "id": "6587224d",
   "metadata": {},
   "outputs": [],
   "source": []
  },
  {
   "cell_type": "code",
   "execution_count": 15,
   "id": "64e79eb7",
   "metadata": {},
   "outputs": [],
   "source": [
    "files = elements = os.listdir(INPUT_PATH_FILES)\n",
    "output_file = os.listdir(OUTPUT_PATH_FILES)"
   ]
  },
  {
   "cell_type": "code",
   "execution_count": 16,
   "id": "29b51cbb",
   "metadata": {},
   "outputs": [],
   "source": [
    "for file in files:\n",
    "    os.system(\n",
    "    \"ffmpeg -i \"+INPUT_PATH_FILES+file+\" -ar 8000 -ac 1 -acodec pcm_s16le \"+INPUT_PATH_FILES+file\n",
    "    )\n",
    "    \n"
   ]
  },
  {
   "cell_type": "code",
   "execution_count": 17,
   "id": "a4413962",
   "metadata": {},
   "outputs": [
    {
     "name": "stdout",
     "output_type": "stream",
     "text": [
      "p226_002.wav\n",
      "p226_009.wav\n",
      "p226_007.wav\n",
      "p226_003.wav\n",
      "p226_006.wav\n",
      "p226_001.wav\n",
      "p226_005.wav\n",
      "p226_004.wav\n",
      "p226_010.wav\n",
      "p226_008.wav\n"
     ]
    }
   ],
   "source": [
    "for file in files:\n",
    "    if file in output_file:\n",
    "        continue\n",
    "    print(file)\n",
    "    audioFile = wave.open(INPUT_PATH_FILES+file, 'r')\n",
    "    n_frames = audioFile.getnframes()\n",
    "    audioData = audioFile.readframes(n_frames)\n",
    "    originalRate = audioFile.getframerate()\n",
    "    af = wave.open(OUTPUT_PATH_FILES+file, 'w')\n",
    "    af.setnchannels(1)\n",
    "    af.setparams((1, 2, 16000, 0, 'NONE', 'Uncompressed'))\n",
    "    converted = audioop.ratecv(audioData, 2, 1, originalRate, 16000, None)\n",
    "    af.writeframes(converted[0])\n",
    "    af.close()\n",
    "    audioFile.close()"
   ]
  },
  {
   "cell_type": "code",
   "execution_count": null,
   "id": "70fe2b02",
   "metadata": {},
   "outputs": [],
   "source": []
  }
 ],
 "metadata": {
  "kernelspec": {
   "display_name": "Python 3",
   "language": "python",
   "name": "python3"
  },
  "language_info": {
   "codemirror_mode": {
    "name": "ipython",
    "version": 3
   },
   "file_extension": ".py",
   "mimetype": "text/x-python",
   "name": "python",
   "nbconvert_exporter": "python",
   "pygments_lexer": "ipython3",
   "version": "3.6.5"
  }
 },
 "nbformat": 4,
 "nbformat_minor": 5
}
