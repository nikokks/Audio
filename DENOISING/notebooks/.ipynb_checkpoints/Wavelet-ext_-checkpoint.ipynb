{
 "cells": [
  {
   "cell_type": "code",
   "execution_count": 3,
   "id": "69b30033",
   "metadata": {},
   "outputs": [
    {
     "ename": "AttributeError",
     "evalue": "'FastWaveletTransform' object has no attribute 'wavedec'",
     "output_type": "error",
     "traceback": [
      "\u001b[0;31m---------------------------------------------------------------------------\u001b[0m",
      "\u001b[0;31mAttributeError\u001b[0m                            Traceback (most recent call last)",
      "\u001b[0;32m<ipython-input-3-0277ba3f5e53>\u001b[0m in \u001b[0;36m<module>\u001b[0;34m\u001b[0m\n\u001b[1;32m     23\u001b[0m             \u001b[0mblock\u001b[0m \u001b[0;34m=\u001b[0m \u001b[0mblock\u001b[0m\u001b[0;34m.\u001b[0m\u001b[0msum\u001b[0m\u001b[0;34m(\u001b[0m\u001b[0maxis\u001b[0m\u001b[0;34m=\u001b[0m\u001b[0;36m1\u001b[0m\u001b[0;34m)\u001b[0m \u001b[0;34m/\u001b[0m \u001b[0;36m2\u001b[0m\u001b[0;34m\u001b[0m\u001b[0m\n\u001b[1;32m     24\u001b[0m \u001b[0;34m\u001b[0m\u001b[0m\n\u001b[0;32m---> 25\u001b[0;31m         \u001b[0mcoefficients\u001b[0m \u001b[0;34m=\u001b[0m \u001b[0mt\u001b[0m\u001b[0;34m.\u001b[0m\u001b[0mwavedec\u001b[0m\u001b[0;34m(\u001b[0m\u001b[0mblock\u001b[0m\u001b[0;34m)\u001b[0m\u001b[0;34m\u001b[0m\u001b[0m\n\u001b[0m\u001b[1;32m     26\u001b[0m         \u001b[0mcoefficients\u001b[0m \u001b[0;34m=\u001b[0m \u001b[0mc\u001b[0m\u001b[0;34m.\u001b[0m\u001b[0mcompress\u001b[0m\u001b[0;34m(\u001b[0m\u001b[0mcoefficients\u001b[0m\u001b[0;34m)\u001b[0m\u001b[0;34m\u001b[0m\u001b[0m\n\u001b[1;32m     27\u001b[0m         \u001b[0mclean\u001b[0m \u001b[0;34m=\u001b[0m \u001b[0mt\u001b[0m\u001b[0;34m.\u001b[0m\u001b[0mwaverec\u001b[0m\u001b[0;34m(\u001b[0m\u001b[0mcoefficients\u001b[0m\u001b[0;34m)\u001b[0m\u001b[0;34m\u001b[0m\u001b[0m\n",
      "\u001b[0;31mAttributeError\u001b[0m: 'FastWaveletTransform' object has no attribute 'wavedec'"
     ]
    }
   ],
   "source": [
    "import numpy as np\n",
    "import soundfile\n",
    "import sys\n",
    "\n",
    "sys.path.append('wavelets-ext/')\n",
    "from wavelet import FastWaveletTransform, VisuShrinkCompressor\n",
    "\n",
    "\n",
    "INPUT_FILE = \"data/8000/noisy_input.wav\"\n",
    "OUTPUT_FILE = \"data/8000/enhanced_Wavelet-ext.wav\"\n",
    "WAVELET_NAME = \"coif1\"  # coif1 works vey well\n",
    "\n",
    "info = soundfile.info(INPUT_FILE)  # getting info of the audio\n",
    "rate = info.samplerate\n",
    "\n",
    "t = FastWaveletTransform(WAVELET_NAME)\n",
    "c = VisuShrinkCompressor()\n",
    "\n",
    "with soundfile.SoundFile(OUTPUT_FILE, \"w\", samplerate=rate, channels=1) as of:\n",
    "    for block in soundfile.blocks(INPUT_FILE, int(rate * info.duration * 0.1)):\n",
    "\n",
    "        # converting to mono [can do 2D, bit with 2 channels that is useless & slow]\n",
    "        if block.ndim > 1:\n",
    "            block = block.sum(axis=1) / 2\n",
    "\n",
    "        coefficients = t.wavedec(block)\n",
    "        coefficients = c.compress(coefficients)\n",
    "        clean = t.waverec(coefficients)\n",
    "\n",
    "        clean = np.asarray(clean, dtype=np.float_)\n",
    "        of.write(clean)"
   ]
  },
  {
   "cell_type": "code",
   "execution_count": null,
   "id": "175ffa15",
   "metadata": {},
   "outputs": [],
   "source": []
  }
 ],
 "metadata": {
  "kernelspec": {
   "display_name": "Python 3",
   "language": "python",
   "name": "python3"
  },
  "language_info": {
   "codemirror_mode": {
    "name": "ipython",
    "version": 3
   },
   "file_extension": ".py",
   "mimetype": "text/x-python",
   "name": "python",
   "nbconvert_exporter": "python",
   "pygments_lexer": "ipython3",
   "version": "3.6.5"
  }
 },
 "nbformat": 4,
 "nbformat_minor": 5
}
