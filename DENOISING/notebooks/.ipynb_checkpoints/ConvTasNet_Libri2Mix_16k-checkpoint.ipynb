{
 "cells": [
  {
   "cell_type": "code",
   "execution_count": 1,
   "id": "52430c9e",
   "metadata": {},
   "outputs": [],
   "source": [
    "from asteroid.models import BaseModel\n",
    "import torch\n",
    "import torchaudio\n",
    "\n",
    "sample_rate = '16000'\n",
    "INPUT_FILE = 'data/'+sample_rate+'/noisy_input.wav'\n",
    "OUTPUT_FILE = 'data/'+sample_rate+'/enhanced_ConvTasNet_libri2mix.wav'"
   ]
  },
  {
   "cell_type": "raw",
   "id": "62191e22",
   "metadata": {},
   "source": [
    "# execute this command to load pickle model saved in repository\n",
    "\n",
    "\n",
    "# For 16000 sample rate\n",
    "import pickle\n",
    "with open('MODELS_SAVED/ConvTasNet_Libri2Mix_sepnoisy_16k.pkl','rb') as f:\n",
    "    model = pickle.load(f)\n",
    "\n",
    "# If internet \n",
    "\n",
    "model = BaseModel.from_pretrained(\"JorisCos/ConvTasNet_Libri2Mix_sepnoisy_16k\")\n"
   ]
  },
  {
   "cell_type": "code",
   "execution_count": 2,
   "id": "ded4f387",
   "metadata": {},
   "outputs": [],
   "source": [
    "import pickle\n",
    "with open('MODELS_SAVED/ConvTasNet_Libri2Mix_sepnoisy_16k.pkl','rb') as f:\n",
    "    model = pickle.load(f)"
   ]
  },
  {
   "cell_type": "code",
   "execution_count": 2,
   "id": "fe8cfc2d",
   "metadata": {},
   "outputs": [],
   "source": [
    "data  = torchaudio.load(INPUT_FILE)[0]"
   ]
  },
  {
   "cell_type": "code",
   "execution_count": 8,
   "id": "98e69067",
   "metadata": {},
   "outputs": [],
   "source": [
    "result = model(data[0])"
   ]
  },
  {
   "cell_type": "code",
   "execution_count": 9,
   "id": "784815b6",
   "metadata": {},
   "outputs": [],
   "source": [
    "torchaudio.save(OUTPUT_FILE, result[0].reshape(1,-1).cpu(), int(sample_rate))"
   ]
  }
 ],
 "metadata": {
  "kernelspec": {
   "display_name": "Python 3",
   "language": "python",
   "name": "python3"
  },
  "language_info": {
   "codemirror_mode": {
    "name": "ipython",
    "version": 3
   },
   "file_extension": ".py",
   "mimetype": "text/x-python",
   "name": "python",
   "nbconvert_exporter": "python",
   "pygments_lexer": "ipython3",
   "version": "3.6.5"
  }
 },
 "nbformat": 4,
 "nbformat_minor": 5
}
