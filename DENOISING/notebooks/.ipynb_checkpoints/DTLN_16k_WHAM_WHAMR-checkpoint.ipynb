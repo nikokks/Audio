{
 "cells": [
  {
   "cell_type": "code",
   "execution_count": 2,
   "id": "bf1b7e54",
   "metadata": {},
   "outputs": [],
   "source": [
    "import os\n",
    "\n",
    "INPUT_PATH_FILES = 'data_pipeline/16000_1/DPTNET/'\n",
    "OUTPUT_FILE = 'data_pipeline/16000_1/DTLN_DPTNET/'"
   ]
  },
  {
   "cell_type": "raw",
   "id": "a946e505",
   "metadata": {},
   "source": [
    "# execute one of these command to infer with specific model\n",
    "\n",
    "# DTLN model\n",
    "os.system('python3.8 DTLN/run_evaluation.py -i '+INPUT_PATH_FILES+\\\n",
    "                                                   ' -o ' + OUTPUT_FILE + \\\n",
    "                                                   ' -m DTLN/pretrained_model/model.h5')\n",
    "\n",
    "# DTLN 40h norm\n",
    "os.system('python3.8 DTLN/run_evaluation.py -i '+INPUT_PATH_FILES+\\\n",
    "                                                   ' -o ' + OUTPUT_FILE + \\\n",
    "                                                   ' -m DTLN/pretrained_model/DTLN_norm_40h.h5')\n",
    "# DTLN 500h norm\n",
    "os.system('python3.8 DTLN/run_evaluation.py -i '+INPUT_PATH_FILES+\\\n",
    "                                                   ' -o ' + OUTPUT_FILE + \\\n",
    "                                                   ' -m DTLN/pretrained_model/DTLN_norm_500h.h5')"
   ]
  }
 ],
 "metadata": {
  "kernelspec": {
   "display_name": "Python 3",
   "language": "python",
   "name": "python3"
  },
  "language_info": {
   "codemirror_mode": {
    "name": "ipython",
    "version": 3
   },
   "file_extension": ".py",
   "mimetype": "text/x-python",
   "name": "python",
   "nbconvert_exporter": "python",
   "pygments_lexer": "ipython3",
   "version": "3.6.5"
  }
 },
 "nbformat": 4,
 "nbformat_minor": 5
}
