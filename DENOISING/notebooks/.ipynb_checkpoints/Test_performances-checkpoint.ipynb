{
 "cells": [
  {
   "cell_type": "code",
   "execution_count": 42,
   "id": "c0c62a16",
   "metadata": {},
   "outputs": [],
   "source": [
    "import soundfile as sf\n",
    "from pystoi import stoi\n",
    "import os\n",
    "import numpy as np\n",
    "from itertools import permutations\n",
    "\n",
    "TARGET_PATH_FILE = 'data_pipeline/16000_target/'\n",
    "DENOISED_PATH_FOLDER = 'data_pipeline/16000_1/'\n",
    "liste_models = os.listdir(DENOISED_PATH_FOLDER)\n"
   ]
  },
  {
   "cell_type": "code",
   "execution_count": 43,
   "id": "36d6699c",
   "metadata": {},
   "outputs": [],
   "source": [
    "def si_snr(x, s, remove_dc=True):\n",
    "    \"\"\"\n",
    "    Compute SI-SNR\n",
    "    Arguments:\n",
    "        x: vector, enhanced/separated signal\n",
    "        s: vector, reference signal(ground truth)\n",
    "    \"\"\"\n",
    "\n",
    "    def vec_l2norm(x):\n",
    "        return np.linalg.norm(x, 2)\n",
    "\n",
    "    # zero mean, seems do not hurt results\n",
    "    if remove_dc:\n",
    "        x_zm = x - np.mean(x)\n",
    "        s_zm = s - np.mean(s)\n",
    "        t = np.inner(x_zm, s_zm) * s_zm / vec_l2norm(s_zm)**2\n",
    "        n = x_zm - t\n",
    "    else:\n",
    "        t = np.inner(x, s) * s / vec_l2norm(s)**2\n",
    "        n = x - t\n",
    "    return 20 * np.log10(vec_l2norm(t) / vec_l2norm(n))"
   ]
  },
  {
   "cell_type": "code",
   "execution_count": 44,
   "id": "560d077a",
   "metadata": {},
   "outputs": [],
   "source": [
    "# test measures but on raw audio denoised \n",
    "best = []\n",
    "for model in liste_models:\n",
    "    FILES_INPUT = os.listdir(DENOISED_PATH_FOLDER+model)\n",
    "    liste = []\n",
    "    liste_si_snr = []\n",
    "    for TARGET_FILE in FILES_INPUT:\n",
    "        clean, fs = sf.read(TARGET_PATH_FILE+TARGET_FILE)\n",
    "\n",
    "        # Clean and den should have the same length, and be 1D\n",
    "        denoised, fs = sf.read(DENOISED_PATH_FOLDER+model+\"/\"+TARGET_FILE)\n",
    "        clean = clean[:len(denoised)]\n",
    "        if len(denoised.shape) == 2:\n",
    "                d = stoi(clean, denoised[:,0], fs, extended=False)\n",
    "                print('double ',end=':')\n",
    "        else:\n",
    "                d = stoi(clean[:len(denoised)], denoised, fs, extended=False)\n",
    "        si = si_snr(denoised,clean)\n",
    "\n",
    "        liste.append(d)\n",
    "        liste_si_snr.append(si)\n",
    "\n",
    "    best.append([model,np.mean(liste),np.std(liste),np.mean(liste_si_snr),np.std(liste_si_snr)])\n",
    "best =sorted(best, key=lambda x:(x[1],x[3]))\n"
   ]
  },
  {
   "cell_type": "code",
   "execution_count": 45,
   "id": "7893973d",
   "metadata": {},
   "outputs": [
    {
     "name": "stdout",
     "output_type": "stream",
     "text": [
      "MODELS                         MEAN_STOI   STD_STOI   MEAN_SI-SNR     STD_SI-SNR\n",
      "U36_Bases4096                  0.6216       0.0692     -2.7500           2.0497\n",
      "DTLN_norm_40h_U36_Bases4096    0.6358       0.0505     -2.2752           1.5021\n",
      "U8_Bases512                    0.6721       0.1164     -2.5731           3.0010\n",
      "DPTNET_U36_Bases4096           0.6794       0.0692     -1.6246           1.7377\n",
      "U16_Bases512                   0.6890       0.1132     -1.8408           2.6743\n",
      "U36_Bases2048                  0.6935       0.0970     -2.0837           1.4094\n",
      "DTLN_norm_40h_U8_Bases512      0.7120       0.1049     0.4762           3.5240\n",
      "DTLN_norm_40h_U16_Bases512     0.7259       0.0955     1.1984           2.9653\n",
      "DTLN_norm_40h_U36_Bases2048    0.7323       0.0915     1.1076           2.7596\n",
      "DPTNET_U8_Bases512             0.7378       0.1053     0.7385           3.1197\n",
      "DPTNET_U16_Bases512            0.7386       0.1034     -0.0896           3.2116\n",
      "DPTNET_U36_Bases2048           0.7564       0.0998     1.0246           3.1838\n",
      "DTLN_norm_500h                 0.8316       0.0968     11.4756           4.0533\n",
      "DTLN_norm_40h                  0.8327       0.0969     11.1777           4.0456\n",
      "DTLN_classical                 0.8387       0.0940     11.2005           4.1869\n",
      "DPTNET_DTLN_norm_40            0.8417       0.0968     11.7188           3.7064\n",
      "DPTNET                         0.8574       0.0981     11.3081           4.2113\n",
      "DTLN_DPTNET                    0.8587       0.0924     11.7772           4.1169\n"
     ]
    }
   ],
   "source": [
    "print('{:<30} {:<5}   {:<5}   {:.<5}     {:.<5}'.format('MODELS','MEAN_STOI','STD_STOI','MEAN_SI-SNR','STD_SI-SNR'))\n",
    "for i,j,k,l,m in best:\n",
    "    print('{:<30} {:.4f}       {:.4f}     {:.4f}           {:.4f}'.format(i,j,k,l,m))"
   ]
  },
  {
   "cell_type": "code",
   "execution_count": 46,
   "id": "f147e4b1",
   "metadata": {},
   "outputs": [],
   "source": [
    "import soundfile as sf\n",
    "from pystoi import stoi\n",
    "import os\n",
    "import numpy\n",
    "\n",
    "TARGET_PATH_FILE = 'data_pipeline/16000_target/'\n",
    "DENOISED_PATH_FOLDER = 'data_pipeline/16000_1/'\n",
    "liste_models = os.listdir(DENOISED_PATH_FOLDER)"
   ]
  },
  {
   "cell_type": "code",
   "execution_count": 47,
   "id": "9ebf7ad4",
   "metadata": {},
   "outputs": [],
   "source": [
    "# same test measures but on audio normalized \n",
    "best = []\n",
    "for model in liste_models:\n",
    "    FILES_INPUT = os.listdir(DENOISED_PATH_FOLDER+model)\n",
    "    liste = []\n",
    "    liste_si_snr = []\n",
    "    for TARGET_FILE in FILES_INPUT:\n",
    "        clean, fs = sf.read(TARGET_PATH_FILE+TARGET_FILE)\n",
    "\n",
    "        # Clean and den should have the same length, and be 1D\n",
    "        denoised, fs = sf.read(DENOISED_PATH_FOLDER+model+\"/\"+TARGET_FILE)\n",
    "        clean = clean[:len(denoised)]\n",
    "        clean = (clean-np.mean(clean))/np.std(clean)\n",
    "        denoised = (denoised-np.mean(denoised))/np.std(denoised)\n",
    "        \n",
    "        d = stoi(clean, denoised, fs, extended=False)\n",
    "        si = si_snr(denoised,clean)\n",
    "        liste.append(d)\n",
    "        liste_si_snr.append(si)\n",
    "    best.append([model,np.mean(liste),np.std(liste),np.mean(liste_si_snr),np.std(liste_si_snr)])\n",
    "best =sorted(best, key=lambda x:(x[1],x[3]))"
   ]
  },
  {
   "cell_type": "code",
   "execution_count": 48,
   "id": "11e93e0a",
   "metadata": {},
   "outputs": [
    {
     "name": "stdout",
     "output_type": "stream",
     "text": [
      "MODELS                         MEAN_STOI   STD_STOI   MEAN_SI-SNR     STD_SI-SNR\n",
      "U36_Bases4096                  0.6221       0.0681     -2.7500           2.0497\n",
      "DTLN_norm_40h_U36_Bases4096    0.6364       0.0495     -2.2752           1.5021\n",
      "U8_Bases512                    0.6727       0.1158     -2.5731           3.0010\n",
      "DPTNET_U36_Bases4096           0.6800       0.0683     -1.6246           1.7377\n",
      "U16_Bases512                   0.6896       0.1126     -1.8408           2.6743\n",
      "U36_Bases2048                  0.6941       0.0962     -2.0837           1.4094\n",
      "DTLN_norm_40h_U8_Bases512      0.7126       0.1041     0.4762           3.5240\n",
      "DTLN_norm_40h_U16_Bases512     0.7265       0.0946     1.1984           2.9653\n",
      "DTLN_norm_40h_U36_Bases2048    0.7329       0.0905     1.1076           2.7596\n",
      "DPTNET_U8_Bases512             0.7383       0.1046     0.7385           3.1197\n",
      "DPTNET_U16_Bases512            0.7392       0.1026     -0.0896           3.2116\n",
      "DPTNET_U36_Bases2048           0.7569       0.0989     1.0246           3.1838\n",
      "DTLN_norm_500h                 0.8322       0.0960     11.4756           4.0533\n",
      "DTLN_norm_40h                  0.8333       0.0961     11.1777           4.0456\n",
      "DTLN_classical                 0.8393       0.0933     11.2005           4.1869\n",
      "DPTNET_DTLN_norm_40            0.8423       0.0960     11.7188           3.7064\n",
      "DPTNET                         0.8579       0.0975     11.3081           4.2113\n",
      "DTLN_DPTNET                    0.8593       0.0920     11.7772           4.1169\n"
     ]
    }
   ],
   "source": [
    "print('{:<30} {:<5}   {:<5}   {:.<5}     {:.<5}'.format('MODELS','MEAN_STOI','STD_STOI','MEAN_SI-SNR','STD_SI-SNR'))\n",
    "for i,j,k,l,m in best:\n",
    "    print('{:<30} {:.4f}       {:.4f}     {:.4f}           {:.4f}'.format(i,j,k,l,m))"
   ]
  },
  {
   "cell_type": "code",
   "execution_count": null,
   "id": "73d7d472",
   "metadata": {},
   "outputs": [],
   "source": []
  }
 ],
 "metadata": {
  "kernelspec": {
   "display_name": "Python 3",
   "language": "python",
   "name": "python3"
  },
  "language_info": {
   "codemirror_mode": {
    "name": "ipython",
    "version": 3
   },
   "file_extension": ".py",
   "mimetype": "text/x-python",
   "name": "python",
   "nbconvert_exporter": "python",
   "pygments_lexer": "ipython3",
   "version": "3.6.5"
  }
 },
 "nbformat": 4,
 "nbformat_minor": 5
}
