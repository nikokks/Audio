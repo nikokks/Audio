{
 "cells": [
  {
   "cell_type": "code",
   "execution_count": 1,
   "id": "52430c9e",
   "metadata": {},
   "outputs": [],
   "source": [
    "from asteroid.models import BaseModel\n",
    "import torch\n",
    "import torchaudio\n",
    "import os\n",
    "\n",
    "INPUT_PATH_FILES = 'data_pipeline/16000/'\n",
    "OUTPUT_FILE = 'data_pipeline/16000_1/DPRNN_'\n",
    "FILES = os.listdir(INPUT_PATH_FILES)"
   ]
  },
  {
   "cell_type": "raw",
   "id": "bd08315d",
   "metadata": {},
   "source": [
    "# execute this command to load pickle model saved in repository\n",
    "\n",
    "\n",
    "# For 16000 sample rateimport pickle\n",
    "import pickle\n",
    "with open('MODELS_SAVED/DPRNNTasNet-ks2_Libri1Mix_enhsingle_16k.pkl','rb') as f:\n",
    "    model = pickle.load(f)\n",
    "    \n",
    "    \n",
    "# If internet \n",
    "model = BaseModel.from_pretrained(\"JorisCos/DPRNNTasNet-ks2_Libri1Mix_enhsingle_16k\")"
   ]
  },
  {
   "cell_type": "code",
   "execution_count": 4,
   "id": "8e03be3d",
   "metadata": {},
   "outputs": [],
   "source": [
    "import pickle\n",
    "with open('MODELS_SAVED/DPRNNTasNet-ks2_Libri1Mix_enhsingle_16k.pkl','rb') as f:\n",
    "    model = pickle.load(f)"
   ]
  },
  {
   "cell_type": "code",
   "execution_count": null,
   "id": "784815b6",
   "metadata": {},
   "outputs": [],
   "source": [
    "for INPUT_FILE in FILES:\n",
    "    data  = torchaudio.load(INPUT_PATH_FILES+INPUT_FILE)[0]\n",
    "    result = model(data[0])\n",
    "    torchaudio.save(OUTPUT_FILE+INPUT_FILE, result.cpu(), 16000)\n",
    "    del data,result"
   ]
  }
 ],
 "metadata": {
  "kernelspec": {
   "display_name": "Python 3",
   "language": "python",
   "name": "python3"
  },
  "language_info": {
   "codemirror_mode": {
    "name": "ipython",
    "version": 3
   },
   "file_extension": ".py",
   "mimetype": "text/x-python",
   "name": "python",
   "nbconvert_exporter": "python",
   "pygments_lexer": "ipython3",
   "version": "3.6.5"
  }
 },
 "nbformat": 4,
 "nbformat_minor": 5
}
