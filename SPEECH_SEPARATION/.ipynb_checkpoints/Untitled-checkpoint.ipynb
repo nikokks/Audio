{
 "cells": [
  {
   "cell_type": "code",
   "execution_count": 6,
   "id": "067cd9bd",
   "metadata": {},
   "outputs": [],
   "source": [
    "# https://huggingface.co/speechbrain/sepformer-wsj02mix \n",
    "\n",
    "from speechbrain.pretrained import SepformerSeparation as separator\n",
    "import torchaudio\n",
    "\n",
    "model = separator.from_hparams(source=\"speechbrain/sepformer-wsj02mix\", savedir='pretrained_models/sepformer-wsj02mix')\n"
   ]
  },
  {
   "cell_type": "code",
   "execution_count": 7,
   "id": "91c40ed6",
   "metadata": {},
   "outputs": [],
   "source": [
    "est_sources = model.separate_file(path='speechbrain/sepformer-wsj02mix/test_mixture.wav') \n",
    "\n",
    "torchaudio.save(\"source1hat.wav\", est_sources[:, :, 0].detach().cpu(), 8000)\n",
    "torchaudio.save(\"source2hat.wav\", est_sources[:, :, 1].detach().cpu(), 8000)"
   ]
  }
 ],
 "metadata": {
  "kernelspec": {
   "display_name": "Python 3",
   "language": "python",
   "name": "python3"
  },
  "language_info": {
   "codemirror_mode": {
    "name": "ipython",
    "version": 3
   },
   "file_extension": ".py",
   "mimetype": "text/x-python",
   "name": "python",
   "nbconvert_exporter": "python",
   "pygments_lexer": "ipython3",
   "version": "3.6.5"
  }
 },
 "nbformat": 4,
 "nbformat_minor": 5
}
